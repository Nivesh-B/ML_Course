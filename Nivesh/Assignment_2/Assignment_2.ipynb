{
 "cells": [
  {
   "cell_type": "markdown",
   "metadata": {},
   "source": [
    "# Assignment-2"
   ]
  },
  {
   "cell_type": "markdown",
   "metadata": {},
   "source": [
    "Task 1:"
   ]
  },
  {
   "cell_type": "markdown",
   "metadata": {},
   "source": [
    "1.1\n",
    "Write a Python Program to implement your own myreduce() function which works exactly like\n",
    "Python's built-in function reduce()"
   ]
  },
  {
   "cell_type": "code",
   "execution_count": 1,
   "metadata": {},
   "outputs": [
    {
     "name": "stdout",
     "output_type": "stream",
     "text": [
      "15\n"
     ]
    }
   ],
   "source": [
    "def add_sum(x1,x2):\n",
    "    return x1+x2\n",
    "\n",
    "def my_reduce(func,seq):\n",
    "    first = seq[0]\n",
    "    for i in seq[1:]:\n",
    "        first = func(first,i)\n",
    "\n",
    "    return first\n",
    "\n",
    "if __name__==\"__main__\":\n",
    "    print(my_reduce(add_sum,[1,2,3,4,5]))"
   ]
  },
  {
   "cell_type": "markdown",
   "metadata": {},
   "source": []
  },
  {
   "cell_type": "markdown",
   "metadata": {},
   "source": [
    "1.2\n",
    "Write a Python program to implement your own myfilter() function which works exactly like\n",
    "Python's built-in function filter()\n"
   ]
  },
  {
   "cell_type": "code",
   "execution_count": 2,
   "metadata": {},
   "outputs": [
    {
     "name": "stdout",
     "output_type": "stream",
     "text": [
      "[1, 2, 3, 6, 0]\n"
     ]
    }
   ],
   "source": [
    "def is_even(x):\n",
    "    if x % 2 == 0:\n",
    "        return True\n",
    "    else:\n",
    "        return False\n",
    "\n",
    "\n",
    "def my_filter(func,seq):\n",
    "    lst=[]\n",
    "    if func == None:\n",
    "        for i in seq[:]:\n",
    "            if type(i) == int:\n",
    "                lst.append(i)\n",
    "    else:\n",
    "        for i in seq[:]:\n",
    "            if func(i) == True:\n",
    "                lst.append(i)\n",
    "    return lst\n",
    "\n",
    "if __name__== \"__main__\":\n",
    "    print(my_filter(None,[1,2,3,{},\"false\",6,0]))"
   ]
  },
  {
   "cell_type": "code",
   "execution_count": null,
   "metadata": {},
   "outputs": [],
   "source": []
  },
  {
   "cell_type": "markdown",
   "metadata": {},
   "source": [
    "2.\n",
    "Implement List comprehensions to produce the following lists."
   ]
  },
  {
   "cell_type": "markdown",
   "metadata": {},
   "source": [
    "Write List comprehensions to produce the following Lists"
   ]
  },
  {
   "cell_type": "markdown",
   "metadata": {},
   "source": [
    "['A', 'C', 'A', 'D', 'G', 'I', ’L’, ‘ D’]\n",
    "\n",
    "['x', 'xx', 'xxx', 'xxxx', 'y', 'yy', 'yyy', 'yyyy', 'z', 'zz', 'zzz', 'zzzz']\n",
    "\n",
    "['x', 'y', 'z', 'xx', 'yy', 'zz', 'xx', 'yy', 'zz', 'xxxx', 'yyyy', 'zzzz']\n",
    "\n",
    "[[2], [3], [4], [3], [4], [5], [4], [5], [6]]\n",
    "\n",
    "[[2, 3, 4, 5], [3, 4, 5, 6], [4, 5, 6, 7], [5, 6, 7, 8]]\n",
    "\n",
    "[(1, 1), (2, 1), (3, 1), (1, 2), (2, 2), (3, 2), (1, 3), (2, 3), (3, 3)]"
   ]
  },
  {
   "cell_type": "code",
   "execution_count": 5,
   "metadata": {},
   "outputs": [
    {
     "data": {
      "text/plain": [
       "['A', 'C', 'A', 'D', 'G', 'I', 'L', 'D']"
      ]
     },
     "execution_count": 5,
     "metadata": {},
     "output_type": "execute_result"
    }
   ],
   "source": [
    "list1 = [x for x in 'ACADGILD']\n",
    "list1"
   ]
  },
  {
   "cell_type": "code",
   "execution_count": 7,
   "metadata": {},
   "outputs": [
    {
     "data": {
      "text/plain": [
       "['x', 'xx', 'xxx', 'xxxx', 'y', 'yy', 'yyy', 'yyyy', 'z', 'zz', 'zzz', 'zzzz']"
      ]
     },
     "execution_count": 7,
     "metadata": {},
     "output_type": "execute_result"
    }
   ],
   "source": [
    "list1= [x * i for x in 'xyz' for i in range(1,5)]\n",
    "list1"
   ]
  },
  {
   "cell_type": "code",
   "execution_count": 8,
   "metadata": {},
   "outputs": [
    {
     "data": {
      "text/plain": [
       "['x', 'y', 'z', 'xx', 'yy', 'zz', 'xxx', 'yyy', 'zzz', 'xxxx', 'yyyy', 'zzzz']"
      ]
     },
     "execution_count": 8,
     "metadata": {},
     "output_type": "execute_result"
    }
   ],
   "source": [
    "list1= [x * i for i in range(1,5) for x in 'xyz']\n",
    "list1"
   ]
  },
  {
   "cell_type": "code",
   "execution_count": 9,
   "metadata": {},
   "outputs": [
    {
     "data": {
      "text/plain": [
       "[2, 3, 4, 3, 4, 5, 4, 5, 6]"
      ]
     },
     "execution_count": 9,
     "metadata": {},
     "output_type": "execute_result"
    }
   ],
   "source": [
    "list1 =[x+i for x in range(1,4) for i in range(1,4)]\n",
    "list1"
   ]
  },
  {
   "cell_type": "code",
   "execution_count": 10,
   "metadata": {},
   "outputs": [
    {
     "data": {
      "text/plain": [
       "[[2, 3, 4, 5], [3, 4, 5, 6], [4, 5, 6, 7], [5, 6, 7, 8]]"
      ]
     },
     "execution_count": 10,
     "metadata": {},
     "output_type": "execute_result"
    }
   ],
   "source": [
    "list1 = [[y+x for y in range(1,5)] for x in range(1,5) ]\n",
    "list1"
   ]
  },
  {
   "cell_type": "code",
   "execution_count": 11,
   "metadata": {},
   "outputs": [
    {
     "data": {
      "text/plain": [
       "[(1, 1), (2, 1), (3, 1), (1, 2), (2, 2), (3, 2), (1, 3), (2, 3), (3, 3)]"
      ]
     },
     "execution_count": 11,
     "metadata": {},
     "output_type": "execute_result"
    }
   ],
   "source": [
    "list1 = [(i,x) for x in range(1,4) for i in range(1,4)]\n",
    "list1"
   ]
  },
  {
   "cell_type": "markdown",
   "metadata": {},
   "source": [
    "3.\n",
    "Implement a function longestWord() that takes a list of words and returns the longest one.\n"
   ]
  },
  {
   "cell_type": "code",
   "execution_count": 12,
   "metadata": {},
   "outputs": [
    {
     "name": "stdout",
     "output_type": "stream",
     "text": [
      "efghi\n"
     ]
    }
   ],
   "source": [
    "def long_word(seq):\n",
    "    max = 0\n",
    "    for i in seq[:]:\n",
    "        temp = len(i)\n",
    "        if temp >= max:\n",
    "            max = temp\n",
    "            max_word = i\n",
    "    return max_word\n",
    "\n",
    "if __name__== \"__main__\":\n",
    "    lst = ['abc','abcd','abcde']\n",
    "    print(long_word(['abc','abcd','abcde','efghi']))"
   ]
  },
  {
   "cell_type": "markdown",
   "metadata": {},
   "source": [
    "# TASK:2"
   ]
  },
  {
   "cell_type": "markdown",
   "metadata": {},
   "source": [
    "1.1\n",
    "Write a Python Program(with class concepts) to find the area of the triangle using the below\n",
    "formula.\n",
    "area = (s*(s-a)*(s-b)*(s-c)) ** 0.5\n",
    "Function to take the length of the sides of triangle from user should be defined in the parent\n",
    "class and function to calculate the area should be defined in subclass.\n"
   ]
  },
  {
   "cell_type": "code",
   "execution_count": 1,
   "metadata": {},
   "outputs": [
    {
     "name": "stdout",
     "output_type": "stream",
     "text": [
      "Please enter the first side of a triangle: 10\n",
      "Please enter the second side of a triangle: 12\n",
      "Please enter the third side of a triangle: 15\n",
      "59.81168364124187\n"
     ]
    }
   ],
   "source": [
    "import sys\n",
    "import math\n",
    "class user_input():\n",
    "    def __init__(self):\n",
    "        self.a = int(input('Please enter the first side of a triangle: '))\n",
    "        self.b = int(input('Please enter the second side of a triangle: '))\n",
    "        self.c = int(input('Please enter the third side of a triangle: '))\n",
    "class triangle(user_input):\n",
    "   def area(self):\n",
    "       a = self.a\n",
    "       b = self.b\n",
    "       c = self.c\n",
    "       s=(a + b + c)/2\n",
    "       area=math.sqrt(s*(s-a)*(s-b)*(s-c))\n",
    "       return area\n",
    "tri = triangle()\n",
    "print(tri.area())"
   ]
  },
  {
   "cell_type": "markdown",
   "metadata": {},
   "source": [
    "1.2\n",
    "Write a function filter_long_words() that takes a list of words and an integer n and returns the list\n",
    "of words that are longer than n."
   ]
  },
  {
   "cell_type": "code",
   "execution_count": 14,
   "metadata": {},
   "outputs": [
    {
     "name": "stdout",
     "output_type": "stream",
     "text": [
      "Enter list of words:abc,bcd,abcde\n",
      "entered lits of words: ['abc', 'bcd', 'abcde']\n",
      "Enter an integer:3\n",
      "['abcde']\n"
     ]
    }
   ],
   "source": [
    "from notebook.notebookapp import raw_input\n",
    "\n",
    "\n",
    "def filter_long_words(seq,n):\n",
    "    lst = []\n",
    "    for i in seq:\n",
    "        if len(i) > n :\n",
    "            lst.append(i)\n",
    "    return lst\n",
    "\n",
    "if __name__ == \"__main__\":\n",
    "    #seq = ['abc','abcd','abcde']\n",
    "    seq = raw_input(\"Enter list of words:\")\n",
    "    seq = seq.split(',')\n",
    "    print(\"entered lits of words: {}\".format(seq))\n",
    "    n= int(input(\"Enter an integer:\"))\n",
    "    seq = filter_long_words(seq,n)\n",
    "    print(seq)"
   ]
  },
  {
   "cell_type": "markdown",
   "metadata": {},
   "source": [
    "2.1\n",
    "Write a Python program using function concept that maps list of words into a list of integers\n",
    "representing the lengths of the corresponding words.\n",
    "Hint: If a list [ ab,cde,erty] is passed on to the python function output should come as [2,3,4]\n",
    "Here 2,3 and 4 are the lengths of the words in the list"
   ]
  },
  {
   "cell_type": "code",
   "execution_count": 15,
   "metadata": {},
   "outputs": [
    {
     "name": "stdout",
     "output_type": "stream",
     "text": [
      "enter list of words:abc,abcd,abcde\n",
      "Length of entered words:\n",
      "[3, 4, 5]\n"
     ]
    }
   ],
   "source": [
    "from notebook.notebookapp import raw_input\n",
    "\n",
    "\n",
    "def length_finder(seq):\n",
    "    return len(seq)\n",
    "\n",
    "def map_funct(lst):\n",
    "    my_list = list(map(length_finder,lst))\n",
    "    return my_list\n",
    "\n",
    "if __name__ == \"__main__\":\n",
    "    #lst = ['abc','abcd','abcde']\n",
    "    lst = raw_input(\"enter list of words:\")\n",
    "    lst =lst.split(',')\n",
    "    print(\"Length of entered words:\")\n",
    "    print(map_funct(lst))"
   ]
  },
  {
   "cell_type": "markdown",
   "metadata": {},
   "source": [
    "2.2\n",
    "Write a Python function which takes a character (i.e. a string of length 1) and returns True if it is\n",
    "a vowel, False otherwise.\n"
   ]
  },
  {
   "cell_type": "code",
   "execution_count": 16,
   "metadata": {},
   "outputs": [
    {
     "name": "stdout",
     "output_type": "stream",
     "text": [
      "Enter a char:a\n",
      "True\n"
     ]
    }
   ],
   "source": [
    "def check_Vowel(vow):\n",
    "    if vow in  ['a','e','i','o','u']:\n",
    "        return  True\n",
    "    else:\n",
    "        return False\n",
    "\n",
    "\n",
    "if __name__ == \"__main__\":\n",
    "    vow= input(\"Enter a char:\")\n",
    "    vow = vow.lower()\n",
    "    print(check_Vowel(vow))"
   ]
  },
  {
   "cell_type": "code",
   "execution_count": null,
   "metadata": {},
   "outputs": [],
   "source": []
  }
 ],
 "metadata": {
  "kernelspec": {
   "display_name": "Python 3",
   "language": "python",
   "name": "python3"
  },
  "language_info": {
   "codemirror_mode": {
    "name": "ipython",
    "version": 3
   },
   "file_extension": ".py",
   "mimetype": "text/x-python",
   "name": "python",
   "nbconvert_exporter": "python",
   "pygments_lexer": "ipython3",
   "version": "3.7.0"
  }
 },
 "nbformat": 4,
 "nbformat_minor": 2
}
